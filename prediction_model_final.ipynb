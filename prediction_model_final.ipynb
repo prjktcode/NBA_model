{
 "cells": [
  {
   "cell_type": "code",
   "execution_count": 93,
   "metadata": {},
   "outputs": [],
   "source": [
    "import pandas as pd\n",
    "import numpy as np\n",
    "import json\n",
    "import time\n",
    "import requests\n",
    "\n",
    "from tabulate import tabulate\n",
    "from datetime import datetime, timezone\n",
    "from dateutil import parser\n",
    "\n",
    "from nba_api.stats.static import teams\n",
    "from nba_api.stats.endpoints import LeagueGameLog\n",
    "from nba_api.live.nba.endpoints import scoreboard\n",
    "\n",
    "from sklearn.preprocessing import StandardScaler, LabelEncoder\n",
    "from sklearn.model_selection import train_test_split\n",
    "from xgboost import XGBRegressor\n",
    "from sklearn.metrics import mean_absolute_error, r2_score, mean_squared_error\n",
    "import pickle"
   ]
  },
  {
   "cell_type": "code",
   "execution_count": 94,
   "metadata": {},
   "outputs": [
    {
     "name": "stdout",
     "output_type": "stream",
     "text": [
      "+------------+------------------------+----------------+---------------+---------------+----------------------+----------------+\n",
      "|         id | full_name              | abbreviation   | nickname      | city          | state                |   year_founded |\n",
      "+============+========================+================+===============+===============+======================+================+\n",
      "| 1610612737 | Atlanta Hawks          | ATL            | Hawks         | Atlanta       | Georgia              |           1949 |\n",
      "+------------+------------------------+----------------+---------------+---------------+----------------------+----------------+\n",
      "| 1610612738 | Boston Celtics         | BOS            | Celtics       | Boston        | Massachusetts        |           1946 |\n",
      "+------------+------------------------+----------------+---------------+---------------+----------------------+----------------+\n",
      "| 1610612739 | Cleveland Cavaliers    | CLE            | Cavaliers     | Cleveland     | Ohio                 |           1970 |\n",
      "+------------+------------------------+----------------+---------------+---------------+----------------------+----------------+\n",
      "| 1610612740 | New Orleans Pelicans   | NOP            | Pelicans      | New Orleans   | Louisiana            |           2002 |\n",
      "+------------+------------------------+----------------+---------------+---------------+----------------------+----------------+\n",
      "| 1610612741 | Chicago Bulls          | CHI            | Bulls         | Chicago       | Illinois             |           1966 |\n",
      "+------------+------------------------+----------------+---------------+---------------+----------------------+----------------+\n",
      "| 1610612742 | Dallas Mavericks       | DAL            | Mavericks     | Dallas        | Texas                |           1980 |\n",
      "+------------+------------------------+----------------+---------------+---------------+----------------------+----------------+\n",
      "| 1610612743 | Denver Nuggets         | DEN            | Nuggets       | Denver        | Colorado             |           1976 |\n",
      "+------------+------------------------+----------------+---------------+---------------+----------------------+----------------+\n",
      "| 1610612744 | Golden State Warriors  | GSW            | Warriors      | Golden State  | California           |           1946 |\n",
      "+------------+------------------------+----------------+---------------+---------------+----------------------+----------------+\n",
      "| 1610612745 | Houston Rockets        | HOU            | Rockets       | Houston       | Texas                |           1967 |\n",
      "+------------+------------------------+----------------+---------------+---------------+----------------------+----------------+\n",
      "| 1610612746 | Los Angeles Clippers   | LAC            | Clippers      | Los Angeles   | California           |           1970 |\n",
      "+------------+------------------------+----------------+---------------+---------------+----------------------+----------------+\n",
      "| 1610612747 | Los Angeles Lakers     | LAL            | Lakers        | Los Angeles   | California           |           1948 |\n",
      "+------------+------------------------+----------------+---------------+---------------+----------------------+----------------+\n",
      "| 1610612748 | Miami Heat             | MIA            | Heat          | Miami         | Florida              |           1988 |\n",
      "+------------+------------------------+----------------+---------------+---------------+----------------------+----------------+\n",
      "| 1610612749 | Milwaukee Bucks        | MIL            | Bucks         | Milwaukee     | Wisconsin            |           1968 |\n",
      "+------------+------------------------+----------------+---------------+---------------+----------------------+----------------+\n",
      "| 1610612750 | Minnesota Timberwolves | MIN            | Timberwolves  | Minnesota     | Minnesota            |           1989 |\n",
      "+------------+------------------------+----------------+---------------+---------------+----------------------+----------------+\n",
      "| 1610612751 | Brooklyn Nets          | BKN            | Nets          | Brooklyn      | New York             |           1976 |\n",
      "+------------+------------------------+----------------+---------------+---------------+----------------------+----------------+\n",
      "| 1610612752 | New York Knicks        | NYK            | Knicks        | New York      | New York             |           1946 |\n",
      "+------------+------------------------+----------------+---------------+---------------+----------------------+----------------+\n",
      "| 1610612753 | Orlando Magic          | ORL            | Magic         | Orlando       | Florida              |           1989 |\n",
      "+------------+------------------------+----------------+---------------+---------------+----------------------+----------------+\n",
      "| 1610612754 | Indiana Pacers         | IND            | Pacers        | Indiana       | Indiana              |           1976 |\n",
      "+------------+------------------------+----------------+---------------+---------------+----------------------+----------------+\n",
      "| 1610612755 | Philadelphia 76ers     | PHI            | 76ers         | Philadelphia  | Pennsylvania         |           1949 |\n",
      "+------------+------------------------+----------------+---------------+---------------+----------------------+----------------+\n",
      "| 1610612756 | Phoenix Suns           | PHX            | Suns          | Phoenix       | Arizona              |           1968 |\n",
      "+------------+------------------------+----------------+---------------+---------------+----------------------+----------------+\n",
      "| 1610612757 | Portland Trail Blazers | POR            | Trail Blazers | Portland      | Oregon               |           1970 |\n",
      "+------------+------------------------+----------------+---------------+---------------+----------------------+----------------+\n",
      "| 1610612758 | Sacramento Kings       | SAC            | Kings         | Sacramento    | California           |           1948 |\n",
      "+------------+------------------------+----------------+---------------+---------------+----------------------+----------------+\n",
      "| 1610612759 | San Antonio Spurs      | SAS            | Spurs         | San Antonio   | Texas                |           1976 |\n",
      "+------------+------------------------+----------------+---------------+---------------+----------------------+----------------+\n",
      "| 1610612760 | Oklahoma City Thunder  | OKC            | Thunder       | Oklahoma City | Oklahoma             |           1967 |\n",
      "+------------+------------------------+----------------+---------------+---------------+----------------------+----------------+\n",
      "| 1610612761 | Toronto Raptors        | TOR            | Raptors       | Toronto       | Ontario              |           1995 |\n",
      "+------------+------------------------+----------------+---------------+---------------+----------------------+----------------+\n",
      "| 1610612762 | Utah Jazz              | UTA            | Jazz          | Utah          | Utah                 |           1974 |\n",
      "+------------+------------------------+----------------+---------------+---------------+----------------------+----------------+\n",
      "| 1610612763 | Memphis Grizzlies      | MEM            | Grizzlies     | Memphis       | Tennessee            |           1995 |\n",
      "+------------+------------------------+----------------+---------------+---------------+----------------------+----------------+\n",
      "| 1610612764 | Washington Wizards     | WAS            | Wizards       | Washington    | District of Columbia |           1961 |\n",
      "+------------+------------------------+----------------+---------------+---------------+----------------------+----------------+\n",
      "| 1610612765 | Detroit Pistons        | DET            | Pistons       | Detroit       | Michigan             |           1948 |\n",
      "+------------+------------------------+----------------+---------------+---------------+----------------------+----------------+\n",
      "| 1610612766 | Charlotte Hornets      | CHA            | Hornets       | Charlotte     | North Carolina       |           1988 |\n",
      "+------------+------------------------+----------------+---------------+---------------+----------------------+----------------+\n"
     ]
    }
   ],
   "source": [
    "# Get a list of all NBA teams\n",
    "all_teams = teams.get_teams()\n",
    "\n",
    "# Function to print list of teams\n",
    "def print_teams(team_list):\n",
    "    print(tabulate(team_list, headers='keys', tablefmt='grid'))\n",
    "\n",
    "print_teams(all_teams)"
   ]
  },
  {
   "cell_type": "code",
   "execution_count": 95,
   "metadata": {},
   "outputs": [
    {
     "name": "stdout",
     "output_type": "stream",
     "text": [
      "ScoreBoardDate: 2024-03-11\n",
      "0022300933: Hornets (ID: 1610612766) vs. Pistons (ID: 1610612765) @ 2024-03-12 02:00:00+03:00\n",
      "0022300934: Suns (ID: 1610612756) vs. Cavaliers (ID: 1610612739) @ 2024-03-12 02:30:00+03:00\n",
      "0022300935: Mavericks (ID: 1610612742) vs. Bulls (ID: 1610612741) @ 2024-03-12 03:00:00+03:00\n",
      "0022300936: Warriors (ID: 1610612744) vs. Spurs (ID: 1610612759) @ 2024-03-12 03:00:00+03:00\n",
      "0022300937: Raptors (ID: 1610612761) vs. Nuggets (ID: 1610612743) @ 2024-03-12 04:00:00+03:00\n",
      "0022300938: Celtics (ID: 1610612738) vs. Trail Blazers (ID: 1610612757) @ 2024-03-12 05:30:00+03:00\n"
     ]
    }
   ],
   "source": [
    "# Query NBA scoreboard and list games in local time zone\n",
    "def get_games():\n",
    "    board = scoreboard.ScoreBoard()\n",
    "    print(\"ScoreBoardDate: \" + board.score_board_date)\n",
    "    games = board.games.get_dict()\n",
    "    for game in games:\n",
    "        gameTimeLTZ = parser.parse(game[\"gameTimeUTC\"]).replace(tzinfo=timezone.utc).astimezone(tz=None)\n",
    "\n",
    "        print(f\"{game['gameId']}: {game['awayTeam']['teamName']} (ID: {game['awayTeam']['teamId']}) vs. {game['homeTeam']['teamName']} (ID: {game['homeTeam']['teamId']}) @ {gameTimeLTZ}\")\n",
    "\n",
    "get_games()"
   ]
  },
  {
   "cell_type": "code",
   "execution_count": 96,
   "metadata": {},
   "outputs": [
    {
     "name": "stdout",
     "output_type": "stream",
     "text": [
      "+------+------------+------+-------+-------+----------+--------+--------+-----------+-------+-------+----------+--------+--------+-------+-------+-------+-------+-------+------+-------+--------------+\n",
      "|      |    TEAM_ID | WL   |   FGM |   FGA |   FG_PCT |   FG3M |   FG3A |   FG3_PCT |   FTM |   FTA |   FT_PCT |   OREB |   DREB |   REB |   AST |   STL |   BLK |   TOV |   PF |   PTS |   PLUS_MINUS |\n",
      "+======+============+======+=======+=======+==========+========+========+===========+=======+=======+==========+========+========+=======+=======+=======+=======+=======+======+=======+==============+\n",
      "| 1912 | 1610612764 | W    |    39 |    81 |    0.481 |     16 |     39 |     0.41  |    16 |    22 |    0.727 |      6 |     34 |    40 |    35 |     5 |     5 |    15 |   18 |   110 |            2 |\n",
      "+------+------------+------+-------+-------+----------+--------+--------+-----------+-------+-------+----------+--------+--------+-------+-------+-------+-------+-------+------+-------+--------------+\n",
      "| 1913 | 1610612748 | L    |    43 |    95 |    0.453 |     10 |     33 |     0.303 |    12 |    18 |    0.667 |     16 |     35 |    51 |    20 |     9 |     6 |    13 |   18 |   108 |           -2 |\n",
      "+------+------------+------+-------+-------+----------+--------+--------+-----------+-------+-------+----------+--------+--------+-------+-------+-------+-------+-------+------+-------+--------------+\n",
      "| 1914 | 1610612758 | L    |    39 |    86 |    0.453 |      6 |     32 |     0.188 |    20 |    23 |    0.87  |      7 |     37 |    44 |    24 |    10 |     5 |    13 |   20 |   104 |           -8 |\n",
      "+------+------------+------+-------+-------+----------+--------+--------+-----------+-------+-------+----------+--------+--------+-------+-------+-------+-------+-------+------+-------+--------------+\n",
      "| 1915 | 1610612745 | W    |    39 |    84 |    0.464 |     12 |     29 |     0.414 |    22 |    27 |    0.815 |      6 |     36 |    42 |    23 |     8 |     1 |    12 |   18 |   112 |            8 |\n",
      "+------+------------+------+-------+-------+----------+--------+--------+-----------+-------+-------+----------+--------+--------+-------+-------+-------+-------+-------+------+-------+--------------+\n",
      "| 1916 | 1610612753 | L    |    33 |    88 |    0.375 |      9 |     36 |     0.25  |    22 |    29 |    0.759 |     13 |     33 |    46 |    18 |     7 |     3 |    13 |   27 |    97 |          -14 |\n",
      "+------+------------+------+-------+-------+----------+--------+--------+-----------+-------+-------+----------+--------+--------+-------+-------+-------+-------+-------+------+-------+--------------+\n",
      "| 1917 | 1610612754 | W    |    38 |    78 |    0.487 |      8 |     23 |     0.348 |    27 |    33 |    0.818 |      5 |     41 |    46 |    20 |     5 |    10 |    13 |   21 |   111 |           14 |\n",
      "+------+------------+------+-------+-------+----------+--------+--------+-----------+-------+-------+----------+--------+--------+-------+-------+-------+-------+-------+------+-------+--------------+\n",
      "| 1918 | 1610612751 | W    |    42 |    79 |    0.532 |     18 |     35 |     0.514 |    18 |    20 |    0.9   |      8 |     32 |    40 |    33 |     7 |     3 |    15 |   17 |   120 |           19 |\n",
      "+------+------------+------+-------+-------+----------+--------+--------+-----------+-------+-------+----------+--------+--------+-------+-------+-------+-------+-------+------+-------+--------------+\n",
      "| 1919 | 1610612739 | L    |    37 |    76 |    0.487 |     14 |     32 |     0.438 |    13 |    20 |    0.65  |      5 |     26 |    31 |    25 |     8 |     4 |    12 |   17 |   101 |          -19 |\n",
      "+------+------------+------+-------+-------+----------+--------+--------+-----------+-------+-------+----------+--------+--------+-------+-------+-------+-------+-------+------+-------+--------------+\n",
      "| 1920 | 1610612760 | W    |    49 |    93 |    0.527 |     21 |     47 |     0.447 |     5 |     5 |    1     |      8 |     38 |    46 |    36 |     8 |     6 |    10 |   18 |   124 |           31 |\n",
      "+------+------------+------+-------+-------+----------+--------+--------+-----------+-------+-------+----------+--------+--------+-------+-------+-------+-------+-------+------+-------+--------------+\n",
      "| 1921 | 1610612750 | L    |    41 |    97 |    0.423 |     16 |     46 |     0.348 |    11 |    13 |    0.846 |     11 |     27 |    38 |    27 |     8 |     6 |    12 |   18 |   109 |          -11 |\n",
      "+------+------------+------+-------+-------+----------+--------+--------+-----------+-------+-------+----------+--------+--------+-------+-------+-------+-------+-------+------+-------+--------------+\n"
     ]
    }
   ],
   "source": [
    "# Specify the season you're interested in\n",
    "season = '2023-24'\n",
    "\n",
    "# Request the game logs for the specified season\n",
    "game_log = LeagueGameLog(season=season)\n",
    "\n",
    "# Get the data\n",
    "game_log_data = game_log.get_data_frames()[0]\n",
    "\n",
    "# Drop irrelevant columns\n",
    "columns_to_drop = ['SEASON_ID', 'GAME_ID', 'GAME_DATE', 'VIDEO_AVAILABLE', 'MIN', 'MATCHUP', 'TEAM_NAME', 'TEAM_ABBREVIATION']\n",
    "game_log_data.drop(columns=columns_to_drop, inplace=True)\n",
    "\n",
    "# Print game log data\n",
    "print(tabulate(game_log_data.tail(10), headers='keys', tablefmt='grid'))"
   ]
  },
  {
   "cell_type": "code",
   "execution_count": 97,
   "metadata": {},
   "outputs": [
    {
     "name": "stdout",
     "output_type": "stream",
     "text": [
      "Missing Values:\n",
      "TEAM_ID       0\n",
      "FGM           0\n",
      "FGA           0\n",
      "FG_PCT        0\n",
      "FG3M          0\n",
      "FG3A          0\n",
      "FG3_PCT       0\n",
      "FTM           0\n",
      "FTA           0\n",
      "FT_PCT        0\n",
      "OREB          0\n",
      "DREB          0\n",
      "REB           0\n",
      "AST           0\n",
      "STL           0\n",
      "BLK           0\n",
      "TOV           0\n",
      "PF            0\n",
      "PTS           0\n",
      "PLUS_MINUS    0\n",
      "WL_encoded    0\n",
      "dtype: int64\n"
     ]
    }
   ],
   "source": [
    "label_encoder = LabelEncoder()\n",
    "\n",
    "# Encode the 'WL' column\n",
    "game_log_data['WL_encoded'] = label_encoder.fit_transform(game_log_data['WL'])\n",
    "\n",
    "# Drop the original 'WL' column\n",
    "game_log_data.drop(columns=['WL'], inplace=True)\n",
    "\n",
    "# Check for missing values\n",
    "missing_values = game_log_data.isnull().sum()\n",
    "print(\"Missing Values:\")\n",
    "print(missing_values)\n",
    "\n"
   ]
  },
  {
   "cell_type": "code",
   "execution_count": 98,
   "metadata": {},
   "outputs": [
    {
     "name": "stdout",
     "output_type": "stream",
     "text": [
      "Features (X):\n",
      "      TEAM_ID  FGM  FGA  FG_PCT  FG3M  FG3A  FG3_PCT  FTM  FTA  FT_PCT  OREB  \\\n",
      "0  1610612747   41   90   0.456    10    29    0.345   15   20   0.750    13   \n",
      "1  1610612743   48   91   0.527    14    34    0.412    9   12   0.750     9   \n",
      "2  1610612756   42   95   0.442    11    33    0.333   13   17   0.765    17   \n",
      "3  1610612744   36  101   0.356    10    43    0.233   22   28   0.786    18   \n",
      "4  1610612741   39   94   0.415    12    42    0.286   14   18   0.778    13   \n",
      "\n",
      "   DREB  REB  AST  STL  BLK  TOV  PF  PLUS_MINUS  WL_encoded  \n",
      "0    31   44   23    5    4   12  18         -12           0  \n",
      "1    33   42   29    9    6   12  15          12           1  \n",
      "2    43   60   23    5    7   19  22           4           1  \n",
      "3    31   49   19   11    6   11  23          -4           0  \n",
      "4    29   42   26   10    3   13  16         -20           0  \n",
      "\n",
      "Target Variable (y):\n",
      "0    107\n",
      "1    119\n",
      "2    108\n",
      "3    104\n",
      "4    104\n",
      "Name: PTS, dtype: int64\n"
     ]
    }
   ],
   "source": [
    "# Separate features (X) and target variable (y)\n",
    "X = game_log_data.drop(columns=['PTS'])\n",
    "y = game_log_data['PTS']\n",
    "\n",
    "# Display the first few rows of features and target variable\n",
    "print(\"Features (X):\")\n",
    "print(X.head())\n",
    "print(\"\\nTarget Variable (y):\")\n",
    "print(y.head())"
   ]
  },
  {
   "cell_type": "code",
   "execution_count": 99,
   "metadata": {},
   "outputs": [],
   "source": [
    "# Split the data into training and testing sets (80% train, 20% test)\n",
    "X_train, X_test, y_train, y_test = train_test_split(X, y, test_size=0.2, random_state=42)\n",
    "\n",
    "# Initialize the XGBoost regressor\n",
    "xgb_regressor = XGBRegressor()\n",
    "\n",
    "# Train the model on the training data\n",
    "xgb_regressor.fit(X_train, y_train)\n",
    "\n",
    "# Predict the target variable on the test data\n",
    "y_pred = xgb_regressor.predict(X_test)\n",
    "\n"
   ]
  },
  {
   "cell_type": "code",
   "execution_count": 100,
   "metadata": {},
   "outputs": [
    {
     "name": "stdout",
     "output_type": "stream",
     "text": [
      "Mean Squared Error: 2.5624124823449566\n",
      "Root Mean Squared Error: 1.600753723201966\n",
      "Mean Absolute Error: 1.1053284087738433\n",
      "R-squared (R2) Score: 0.9855628013839608\n"
     ]
    }
   ],
   "source": [
    "# Calculate mean squared error\n",
    "mse = mean_squared_error(y_test, y_pred)\n",
    "print(\"Mean Squared Error:\", mse)\n",
    "\n",
    "# Calculate root mean squared error (RMSE)\n",
    "rmse = np.sqrt(mse)\n",
    "print(\"Root Mean Squared Error:\", rmse)\n",
    "\n",
    "# Calculate mean absolute error (MAE)\n",
    "mae = mean_absolute_error(y_test, y_pred)\n",
    "print(\"Mean Absolute Error:\", mae)\n",
    "\n",
    "# Calculate R-squared (R2) score\n",
    "r2 = r2_score(y_test, y_pred)\n",
    "print(\"R-squared (R2) Score:\", r2)"
   ]
  },
  {
   "cell_type": "code",
   "execution_count": 101,
   "metadata": {},
   "outputs": [],
   "source": [
    "# Save the trained model to a file\n",
    "with open('xgboost_regression_model.pkl', 'wb') as f:\n",
    "    pickle.dump(xgb_regressor, f)\n",
    "\n",
    "# Load the trained model from the file\n",
    "with open('xgboost_regression_model.pkl', 'rb') as f:\n",
    "    xgb_regressor = pickle.load(f)"
   ]
  },
  {
   "cell_type": "code",
   "execution_count": 102,
   "metadata": {},
   "outputs": [
    {
     "name": "stdout",
     "output_type": "stream",
     "text": [
      "+------------+-------+----------+--------+-------+-------+-------+--------+----------+-------+--------------+-------+--------+-------+-------+--------+------+-------+-----------+--------------+\n",
      "|    TEAM_ID |   REB |   FT_PCT |   OREB |   TOV |   FTA |   BLK |   FG3A |   FG_PCT |   FTM |   PLUS_MINUS |   FGM |   FG3M |   STL |   FGA |   DREB |   PF |   AST |   FG3_PCT |   WL_encoded |\n",
      "+============+=======+==========+========+=======+=======+=======+========+==========+=======+==============+=======+========+=======+=======+========+======+=======+===========+==============+\n",
      "| 1610612765 |    56 |    0.6   |     17 |    17 |    15 |    13 |     32 |    0.446 |     9 |           -1 |    41 |     11 |     3 |    92 |     39 |   23 |    28 |     0.344 |            0 |\n",
      "+------------+-------+----------+--------+-------+-------+-------+--------+----------+-------+--------------+-------+--------+-------+-------+--------+------+-------+-----------+--------------+\n",
      "| 1610612766 |    51 |    0.731 |     12 |    19 |    26 |     3 |     37 |    0.5   |    19 |            6 |    43 |     11 |     5 |    86 |     39 |   21 |    34 |     0.297 |            1 |\n",
      "+------------+-------+----------+--------+-------+-------+-------+--------+----------+-------+--------------+-------+--------+-------+-------+--------+------+-------+-----------+--------------+\n",
      "| 1610612739 |    38 |    0.9   |      9 |    10 |    10 |     6 |     43 |    0.468 |     9 |            1 |    44 |     17 |    10 |    94 |     29 |   23 |    25 |     0.395 |            1 |\n",
      "+------------+-------+----------+--------+-------+-------+-------+--------+----------+-------+--------------+-------+--------+-------+-------+--------+------+-------+-----------+--------------+\n",
      "| 1610612756 |    60 |    0.765 |     17 |    19 |    17 |     7 |     33 |    0.442 |    13 |            4 |    42 |     11 |     5 |    95 |     43 |   22 |    23 |     0.333 |            1 |\n",
      "+------------+-------+----------+--------+-------+-------+-------+--------+----------+-------+--------------+-------+--------+-------+-------+--------+------+-------+-----------+--------------+\n",
      "| 1610612741 |    42 |    0.778 |     13 |    13 |    18 |     3 |     42 |    0.415 |    14 |          -20 |    39 |     12 |    10 |    94 |     29 |   16 |    26 |     0.286 |            0 |\n",
      "+------------+-------+----------+--------+-------+-------+-------+--------+----------+-------+--------------+-------+--------+-------+-------+--------+------+-------+-----------+--------------+\n",
      "| 1610612742 |    48 |    0.739 |     13 |    12 |    23 |     3 |     47 |    0.475 |    17 |            7 |    47 |     15 |     6 |    99 |     35 |   20 |    24 |     0.319 |            1 |\n",
      "+------------+-------+----------+--------+-------+-------+-------+--------+----------+-------+--------------+-------+--------+-------+-------+--------+------+-------+-----------+--------------+\n",
      "| 1610612759 |    45 |    0.727 |      9 |    19 |    22 |     5 |     35 |    0.517 |    16 |           -7 |    46 |     11 |     8 |    89 |     36 |   23 |    33 |     0.314 |            0 |\n",
      "+------------+-------+----------+--------+-------+-------+-------+--------+----------+-------+--------------+-------+--------+-------+-------+--------+------+-------+-----------+--------------+\n",
      "| 1610612744 |    49 |    0.786 |     18 |    11 |    28 |     6 |     43 |    0.356 |    22 |           -4 |    36 |     10 |    11 |   101 |     31 |   23 |    19 |     0.233 |            0 |\n",
      "+------------+-------+----------+--------+-------+-------+-------+--------+----------+-------+--------------+-------+--------+-------+-------+--------+------+-------+-----------+--------------+\n",
      "| 1610612743 |    42 |    0.75  |      9 |    12 |    12 |     6 |     34 |    0.527 |     9 |           12 |    48 |     14 |     9 |    91 |     33 |   15 |    29 |     0.412 |            1 |\n",
      "+------------+-------+----------+--------+-------+-------+-------+--------+----------+-------+--------------+-------+--------+-------+-------+--------+------+-------+-----------+--------------+\n",
      "| 1610612761 |    47 |    0.688 |      8 |    14 |    16 |    11 |     35 |    0.4   |    11 |            3 |    36 |     14 |     9 |    90 |     39 |   18 |    27 |     0.4   |            1 |\n",
      "+------------+-------+----------+--------+-------+-------+-------+--------+----------+-------+--------------+-------+--------+-------+-------+--------+------+-------+-----------+--------------+\n",
      "| 1610612757 |    40 |    0.765 |     15 |    18 |    17 |     4 |     32 |    0.473 |    13 |          -12 |    44 |     10 |    10 |    93 |     25 |   20 |    20 |     0.313 |            0 |\n",
      "+------------+-------+----------+--------+-------+-------+-------+--------+----------+-------+--------------+-------+--------+-------+-------+--------+------+-------+-----------+--------------+\n",
      "| 1610612738 |    46 |    0.846 |      7 |    13 |    26 |    11 |     39 |    0.481 |    22 |            4 |    37 |     12 |     6 |    77 |     39 |   22 |    18 |     0.308 |            1 |\n",
      "+------------+-------+----------+--------+-------+-------+-------+--------+----------+-------+--------------+-------+--------+-------+-------+--------+------+-------+-----------+--------------+\n"
     ]
    }
   ],
   "source": [
    "# Prepare input data for prediction\n",
    "fixtures_data = []\n",
    "board = scoreboard.ScoreBoard()\n",
    "games = board.games.get_dict()\n",
    "for game in games:\n",
    "    home_team_id = game['homeTeam']['teamId']\n",
    "    away_team_id = game['awayTeam']['teamId']\n",
    "\n",
    "    home_team_stats = game_log_data[game_log_data['TEAM_ID'] == home_team_id]\n",
    "    away_team_stats = game_log_data[game_log_data['TEAM_ID'] == away_team_id]\n",
    "\n",
    "    fixture_data_home = {\n",
    "        'TEAM_ID': home_team_id,\n",
    "        'REB': home_team_stats['REB'].values[0],  # Use .values[0] to get the scalar value\n",
    "        'FT_PCT': home_team_stats['FT_PCT'].values[0],\n",
    "        'OREB': home_team_stats['OREB'].values[0],\n",
    "        'TOV': home_team_stats['TOV'].values[0],\n",
    "        'FTA': home_team_stats['FTA'].values[0],\n",
    "        'BLK': home_team_stats['BLK'].values[0],\n",
    "        'FG3A': home_team_stats['FG3A'].values[0],\n",
    "        'FG_PCT': home_team_stats['FG_PCT'].values[0],\n",
    "        'FTM': home_team_stats['FTM'].values[0],\n",
    "        'PLUS_MINUS': home_team_stats['PLUS_MINUS'].values[0],\n",
    "        'FGM': home_team_stats['FGM'].values[0],\n",
    "        'FG3M': home_team_stats['FG3M'].values[0],\n",
    "        'STL': home_team_stats['STL'].values[0],\n",
    "        'FGA': home_team_stats['FGA'].values[0],\n",
    "        'DREB': home_team_stats['DREB'].values[0],\n",
    "        'PF': home_team_stats['PF'].values[0],\n",
    "        'AST': home_team_stats['AST'].values[0],\n",
    "        'FG3_PCT': home_team_stats['FG3_PCT'].values[0],\n",
    "        'WL_encoded': home_team_stats['WL_encoded'].values[0]\n",
    "    }\n",
    "    fixtures_data.append(fixture_data_home)\n",
    "\n",
    "    fixture_data_away = {\n",
    "        'TEAM_ID': away_team_id,\n",
    "        'REB': away_team_stats['REB'].values[0],\n",
    "        'FT_PCT': away_team_stats['FT_PCT'].values[0],\n",
    "        'OREB': away_team_stats['OREB'].values[0],\n",
    "        'TOV': away_team_stats['TOV'].values[0],\n",
    "        'FTA': away_team_stats['FTA'].values[0],\n",
    "        'BLK': away_team_stats['BLK'].values[0],\n",
    "        'FG3A': away_team_stats['FG3A'].values[0],\n",
    "        'FG_PCT': away_team_stats['FG_PCT'].values[0],\n",
    "        'FTM': away_team_stats['FTM'].values[0],\n",
    "        'PLUS_MINUS': away_team_stats['PLUS_MINUS'].values[0],\n",
    "        'FGM': away_team_stats['FGM'].values[0],\n",
    "        'FG3M': away_team_stats['FG3M'].values[0],\n",
    "        'STL': away_team_stats['STL'].values[0],\n",
    "        'FGA': away_team_stats['FGA'].values[0],\n",
    "        'DREB': away_team_stats['DREB'].values[0],\n",
    "        'PF': away_team_stats['PF'].values[0],\n",
    "        'AST': away_team_stats['AST'].values[0],\n",
    "        'FG3_PCT': away_team_stats['FG3_PCT'].values[0],\n",
    "        'WL_encoded': away_team_stats['WL_encoded'].values[0]\n",
    "    }\n",
    "    fixtures_data.append(fixture_data_away)\n",
    "\n",
    "print(tabulate(fixtures_data, headers='keys', tablefmt='grid'))\n"
   ]
  },
  {
   "cell_type": "code",
   "execution_count": 103,
   "metadata": {},
   "outputs": [
    {
     "name": "stdout",
     "output_type": "stream",
     "text": [
      "Predicted Points for Today's Fixtures:\n",
      "Team ID: 1610612765, Predicted Points: 101.98263549804688\n",
      "Team ID: 1610612766, Predicted Points: 116.13172149658203\n",
      "Team ID: 1610612739, Predicted Points: 113.89226531982422\n",
      "Team ID: 1610612756, Predicted Points: 108.07414245605469\n",
      "Team ID: 1610612741, Predicted Points: 103.80243682861328\n",
      "Team ID: 1610612742, Predicted Points: 126.09562683105469\n",
      "Team ID: 1610612759, Predicted Points: 119.00860595703125\n",
      "Team ID: 1610612744, Predicted Points: 104.03842163085938\n",
      "Team ID: 1610612743, Predicted Points: 119.40325927734375\n",
      "Team ID: 1610612761, Predicted Points: 97.12644958496094\n",
      "Team ID: 1610612757, Predicted Points: 110.88034057617188\n",
      "Team ID: 1610612738, Predicted Points: 107.87094116210938\n"
     ]
    }
   ],
   "source": [
    "# Predict points for each fixture\n",
    "predicted_points = []\n",
    "for fixture_data in fixtures_data:\n",
    "    # Prepare input data for prediction (excluding 'TEAM_ID')\n",
    "    X_fixture = pd.DataFrame(fixture_data, index=[0])  # Convert to DataFrame for prediction\n",
    "    \n",
    "    # Reorder features in X_fixture to match the expected order\n",
    "    X_fixture = X_fixture[['TEAM_ID', 'FGM', 'FGA', 'FG_PCT', 'FG3M', 'FG3A', 'FG3_PCT', 'FTM', 'FTA', 'FT_PCT', 'OREB', 'DREB', 'REB', 'AST', 'STL', 'BLK', 'TOV', 'PF', 'PLUS_MINUS', 'WL_encoded']]\n",
    "    \n",
    "    # Predict points using the loaded model\n",
    "    predicted_point = xgb_regressor.predict(X_fixture)[0]\n",
    "    predicted_points.append(predicted_point)\n",
    "\n",
    "# Print predicted points for each fixture\n",
    "print(\"Predicted Points for Today's Fixtures:\")\n",
    "for idx, fixture_data in enumerate(fixtures_data):\n",
    "    print(f\"Team ID: {fixture_data['TEAM_ID']}, Predicted Points: {predicted_points[idx]}\")\n"
   ]
  },
  {
   "cell_type": "code",
   "execution_count": 104,
   "metadata": {},
   "outputs": [
    {
     "name": "stdout",
     "output_type": "stream",
     "text": [
      "Pistons (ID: 1610612765) vs. Hornets (ID: 1610612766): Predicted Score - 101.98263549804688 : 116.13172149658203\n",
      "Cavaliers (ID: 1610612739) vs. Suns (ID: 1610612756): Predicted Score - 113.89226531982422 : 108.07414245605469\n",
      "Bulls (ID: 1610612741) vs. Mavericks (ID: 1610612742): Predicted Score - 103.80243682861328 : 126.09562683105469\n",
      "Spurs (ID: 1610612759) vs. Warriors (ID: 1610612744): Predicted Score - 119.00860595703125 : 104.03842163085938\n",
      "Nuggets (ID: 1610612743) vs. Raptors (ID: 1610612761): Predicted Score - 119.40325927734375 : 97.12644958496094\n",
      "Trail Blazers (ID: 1610612757) vs. Celtics (ID: 1610612738): Predicted Score - 110.88034057617188 : 107.87094116210938\n"
     ]
    }
   ],
   "source": [
    "for idx, game in enumerate(games):\n",
    "    home_team_name = game['homeTeam']['teamName']\n",
    "    home_team_id = game['homeTeam']['teamId']\n",
    "    away_team_name = game['awayTeam']['teamName']\n",
    "    away_team_id = game['awayTeam']['teamId']\n",
    "\n",
    "    # Find predicted points for the current fixture\n",
    "    predicted_score_home = predicted_points[idx * 2]\n",
    "    predicted_score_away = predicted_points[idx * 2 + 1]\n",
    "\n",
    "    print(f\"{home_team_name} (ID: {home_team_id}) vs. {away_team_name} (ID: {away_team_id}): Predicted Score - {predicted_score_home} : {predicted_score_away}\")\n"
   ]
  },
  {
   "cell_type": "code",
   "execution_count": 105,
   "metadata": {},
   "outputs": [
    {
     "name": "stdout",
     "output_type": "stream",
     "text": [
      "+--------------------------------+----------------------------+------------------------+------------------------+\n",
      "| Home Team                      | Away Team                  |   Predicted Score Home |   Predicted Score Away |\n",
      "+================================+============================+========================+========================+\n",
      "| Pistons (ID: 1610612765)       | Hornets (ID: 1610612766)   |                101.983 |               116.132  |\n",
      "+--------------------------------+----------------------------+------------------------+------------------------+\n",
      "| Cavaliers (ID: 1610612739)     | Suns (ID: 1610612756)      |                113.892 |               108.074  |\n",
      "+--------------------------------+----------------------------+------------------------+------------------------+\n",
      "| Bulls (ID: 1610612741)         | Mavericks (ID: 1610612742) |                103.802 |               126.096  |\n",
      "+--------------------------------+----------------------------+------------------------+------------------------+\n",
      "| Spurs (ID: 1610612759)         | Warriors (ID: 1610612744)  |                119.009 |               104.038  |\n",
      "+--------------------------------+----------------------------+------------------------+------------------------+\n",
      "| Nuggets (ID: 1610612743)       | Raptors (ID: 1610612761)   |                119.403 |                97.1264 |\n",
      "+--------------------------------+----------------------------+------------------------+------------------------+\n",
      "| Trail Blazers (ID: 1610612757) | Celtics (ID: 1610612738)   |                110.88  |               107.871  |\n",
      "+--------------------------------+----------------------------+------------------------+------------------------+\n"
     ]
    }
   ],
   "source": [
    "# Prepare data for tabulate\n",
    "table_data = []\n",
    "for idx, game in enumerate(games):\n",
    "    home_team_name = game['homeTeam']['teamName']\n",
    "    home_team_id = game['homeTeam']['teamId']\n",
    "    away_team_name = game['awayTeam']['teamName']\n",
    "    away_team_id = game['awayTeam']['teamId']\n",
    "\n",
    "    # Find predicted points for the current fixture\n",
    "    predicted_score_home = predicted_points[idx * 2]\n",
    "    predicted_score_away = predicted_points[idx * 2 + 1]\n",
    "\n",
    "    table_data.append([f\"{home_team_name} (ID: {home_team_id})\", f\"{away_team_name} (ID: {away_team_id})\", predicted_score_home, predicted_score_away])\n",
    "\n",
    "# Print table\n",
    "print(tabulate(table_data, headers=[\"Home Team\", \"Away Team\", \"Predicted Score Home\", \"Predicted Score Away\"], tablefmt=\"grid\"))\n"
   ]
  }
 ],
 "metadata": {
  "kernelspec": {
   "display_name": "Python 3",
   "language": "python",
   "name": "python3"
  },
  "language_info": {
   "codemirror_mode": {
    "name": "ipython",
    "version": 3
   },
   "file_extension": ".py",
   "mimetype": "text/x-python",
   "name": "python",
   "nbconvert_exporter": "python",
   "pygments_lexer": "ipython3",
   "version": "3.12.0"
  }
 },
 "nbformat": 4,
 "nbformat_minor": 2
}
